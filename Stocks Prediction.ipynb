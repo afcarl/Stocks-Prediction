{
 "cells": [
  {
   "cell_type": "markdown",
   "metadata": {},
   "source": [
    "# Stock Prediction Algorithm\n",
    "Applying machine learning on S&P500 data obtained from Yahoo Finance"
   ]
  },
  {
   "cell_type": "code",
   "execution_count": 1,
   "metadata": {
    "collapsed": false
   },
   "outputs": [
    {
     "name": "stdout",
     "output_type": "stream",
     "text": [
      "        Date         Open         High          Low        Close  \\\n",
      "0 2017-03-03  2380.919922  2383.889893  2375.389893  2383.120117   \n",
      "1 2017-03-02  2394.750000  2394.750000  2380.169922  2381.919922   \n",
      "2 2017-03-01  2380.129883  2400.979980  2380.129883  2395.959961   \n",
      "3 2017-02-28  2366.080078  2367.790039  2358.959961  2363.639893   \n",
      "4 2017-02-27  2365.229980  2371.540039  2361.870117  2369.729980   \n",
      "\n",
      "         Volume  Adjusted Close  \n",
      "0  3.555260e+09     2383.120117  \n",
      "1  3.821320e+09     2381.919922  \n",
      "2  4.345180e+09     2395.959961  \n",
      "3  4.210140e+09     2363.639893  \n",
      "4  3.582610e+09     2369.729980  \n"
     ]
    }
   ],
   "source": [
    "# Reading the data\n",
    "import pandas as pd\n",
    "data = pd.read_csv('YAHOO-INDEX_GSPC.csv')\n",
    "# Convert the Date column to Panda date type\n",
    "data['Date'] =  pd.to_datetime(data['Date'])\n",
    "print(data.head())"
   ]
  },
  {
   "cell_type": "code",
   "execution_count": 2,
   "metadata": {
    "collapsed": false
   },
   "outputs": [
    {
     "name": "stdout",
     "output_type": "stream",
     "text": [
      "0         True\n",
      "1         True\n",
      "2         True\n",
      "3         True\n",
      "4         True\n",
      "5         True\n",
      "6         True\n",
      "7         True\n",
      "8         True\n",
      "9         True\n",
      "10        True\n",
      "11        True\n",
      "12        True\n",
      "13        True\n",
      "14        True\n",
      "15        True\n",
      "16        True\n",
      "17        True\n",
      "18        True\n",
      "19        True\n",
      "20        True\n",
      "21        True\n",
      "22        True\n",
      "23        True\n",
      "24        True\n",
      "25        True\n",
      "26        True\n",
      "27        True\n",
      "28        True\n",
      "29        True\n",
      "         ...  \n",
      "16871    False\n",
      "16872    False\n",
      "16873    False\n",
      "16874    False\n",
      "16875    False\n",
      "16876    False\n",
      "16877    False\n",
      "16878    False\n",
      "16879    False\n",
      "16880    False\n",
      "16881    False\n",
      "16882    False\n",
      "16883    False\n",
      "16884    False\n",
      "16885    False\n",
      "16886    False\n",
      "16887    False\n",
      "16888    False\n",
      "16889    False\n",
      "16890    False\n",
      "16891    False\n",
      "16892    False\n",
      "16893    False\n",
      "16894    False\n",
      "16895    False\n",
      "16896    False\n",
      "16897    False\n",
      "16898    False\n",
      "16899    False\n",
      "16900    False\n",
      "Name: Date, dtype: bool\n"
     ]
    }
   ],
   "source": [
    "# Making datetime comparisons\n",
    "from datetime import datetime\n",
    "dates_later_2015 = data['Date'] > datetime(year=2015, month=4, day=1)\n",
    "print(dates_later_2015)"
   ]
  },
  {
   "cell_type": "code",
   "execution_count": 3,
   "metadata": {
    "collapsed": false
   },
   "outputs": [
    {
     "name": "stdout",
     "output_type": "stream",
     "text": [
      "   index       Date   Open   High    Low  Close     Volume  Adjusted Close\n",
      "0  16900 1950-01-03  16.66  16.66  16.66  16.66  1260000.0           16.66\n",
      "1  16899 1950-01-04  16.85  16.85  16.85  16.85  1890000.0           16.85\n",
      "2  16898 1950-01-05  16.93  16.93  16.93  16.93  2550000.0           16.93\n",
      "3  16897 1950-01-06  16.98  16.98  16.98  16.98  2010000.0           16.98\n",
      "4  16896 1950-01-09  17.08  17.08  17.08  17.08  2520000.0           17.08\n"
     ]
    },
    {
     "name": "stderr",
     "output_type": "stream",
     "text": [
      "/Users/navneetmkumar/anaconda/lib/python3.6/site-packages/ipykernel/__main__.py:2: FutureWarning: sort(columns=....) is deprecated, use sort_values(by=.....)\n",
      "  from ipykernel import kernelapp as app\n"
     ]
    }
   ],
   "source": [
    "# Sort the dataframe on Date column in ascending order\n",
    "data = data.sort(['Date'], ascending=True)\n",
    "data = data.reset_index()\n",
    "print(data.head())"
   ]
  },
  {
   "cell_type": "code",
   "execution_count": null,
   "metadata": {
    "collapsed": false
   },
   "outputs": [],
   "source": [
    "# Computing additional values\n",
    "import numpy as np\n",
    "mean_price = []\n",
    "std_prices = []\n",
    "for i, row in data.iterrows():\n",
    "    price = data['Close']\n",
    "    if i >= 5:\n",
    "        price = price.iloc[i-5:i]\n",
    "        mean_p = price.mean()\n",
    "        std_price = np.std(price)\n",
    "        mean_price.append(mean_p)\n",
    "        std_prices.append(std_price)\n",
    "mean_prices = np.asarray(mean_price)\n",
    "std_prices = np.asarray(std_price)"
   ]
  },
  {
   "cell_type": "code",
   "execution_count": null,
   "metadata": {
    "collapsed": false
   },
   "outputs": [],
   "source": [
    "print(data.tail())"
   ]
  },
  {
   "cell_type": "code",
   "execution_count": null,
   "metadata": {
    "collapsed": true
   },
   "outputs": [],
   "source": [
    "# Divide the data \n",
    "data = data[data['Date']> datetime(year=1951, month=1, day=2)]\n",
    "data.dropna(axis=0, inplace=True)\n",
    "# Generate 2 dataframes\n",
    "train = data[data['Date']<datetime(year=2013, month=1, day=1)]\n",
    "test = data[data['Date']>datetime(year=2013, month=1, day=1)]"
   ]
  },
  {
   "cell_type": "code",
   "execution_count": null,
   "metadata": {
    "collapsed": true
   },
   "outputs": [],
   "source": [
    "# Applying the Machine Learning algorithm using the mean absolute error metric\n",
    "from sklearn.metrics import mean_absolute_error\n",
    "from sklearn.linear_model import LinearRegression\n",
    "\n",
    "# Create the linear model\n",
    "model = LinearRegression()\n",
    "model.fit(train['Volume','High', 'Low'], train['Close'])\n",
    "predictions = model.predict(test['Volume', 'High', 'Low'])\n",
    "error = mean_absolute_error(predictions, test['Close'])\n",
    "print(error)"
   ]
  }
 ],
 "metadata": {
  "kernelspec": {
   "display_name": "Python 3",
   "language": "python",
   "name": "python3"
  },
  "language_info": {
   "codemirror_mode": {
    "name": "ipython",
    "version": 3
   },
   "file_extension": ".py",
   "mimetype": "text/x-python",
   "name": "python",
   "nbconvert_exporter": "python",
   "pygments_lexer": "ipython3",
   "version": "3.6.0"
  }
 },
 "nbformat": 4,
 "nbformat_minor": 2
}
